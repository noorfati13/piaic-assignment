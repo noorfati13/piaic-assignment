{
 "cells": [
  {
   "cell_type": "code",
   "execution_count": 1,
   "metadata": {},
   "outputs": [
    {
     "name": "stdout",
     "output_type": "stream",
     "text": [
      "Amna\n",
      "Hi Ayesha welcome back to School\n",
      "Hi Abiha welcome back to School\n",
      "Hi Amina welcome back to School\n",
      "Hi Afsa welcome back to School\n"
     ]
    }
   ],
   "source": [
    "names:list=['Amna' , 'Ayesha' , 'Abiha' , 'Amina' , 'Afsa']\n",
    "print(names[0])\n",
    "print('Hi', names[1] , 'welcome back to School')\n",
    "print('Hi', names[2] , 'welcome back to School')\n",
    "print('Hi', names[3] , 'welcome back to School')\n",
    "print('Hi', names[4] , 'welcome back to School')"
   ]
  },
  {
   "cell_type": "code",
   "execution_count": 2,
   "metadata": {},
   "outputs": [
    {
     "name": "stdout",
     "output_type": "stream",
     "text": [
      "I would like a Porsche 911 gt3 rs for myself\n",
      "I would like to buy Porsche spyder 918 for myself\n",
      "I would like to drive Mehran for myself\n",
      "I would like to own a Porsche 911 F\n"
     ]
    }
   ],
   "source": [
    "transport:list=['Porsche 911 gt3 rs','Porsche spyder 918','Mehran','Porsche 911 F']\n",
    "print('I would like a' ,transport[0],'for myself')\n",
    "print('I would like to buy' ,transport[1],'for myself')\n",
    "print('I would like to drive' ,transport[2],'for myself')\n",
    "print('I would like to own a' ,transport[3])"
   ]
  },
  {
   "cell_type": "code",
   "execution_count": 3,
   "metadata": {},
   "outputs": [
    {
     "name": "stdout",
     "output_type": "stream",
     "text": [
      "Khadeeja , I am pleased to invite you to have dinner with me\n",
      "Sabah , I am pleased to invite you to have dinner with me\n",
      "Mahnoor , I am pleased to invite you to have dinner with me\n",
      "Muneera , I am pleased to invite you to have dinner with me\n"
     ]
    }
   ],
   "source": [
    "guest:list=['Khadeeja','Sabah','Mahnoor','Muneera']\n",
    "print(guest[0],', I am pleased to invite you to have dinner with me')\n",
    "print(guest[1],', I am pleased to invite you to have dinner with me')\n",
    "print(guest[2],', I am pleased to invite you to have dinner with me')\n",
    "print(guest[3],', I am pleased to invite you to have dinner with me')"
   ]
  },
  {
   "cell_type": "code",
   "execution_count": 4,
   "metadata": {},
   "outputs": [
    {
     "name": "stdout",
     "output_type": "stream",
     "text": [
      "Khadeeja , I am pleased to invite you to have dinner with me\n",
      "Sabah , I am pleased to invite you to have dinner with me\n",
      "Unfortunately Mahnoor cant make it today\n",
      "Muneera , I am pleased to invite you to have dinner with me\n",
      "Komal , I am pleased to invite you to have dinner with me\n"
     ]
    }
   ],
   "source": [
    "guest:list=['Khadeeja','Sabah','Mahnoor','Komal','Muneera']\n",
    "print(guest[0],', I am pleased to invite you to have dinner with me')\n",
    "print(guest[1],', I am pleased to invite you to have dinner with me')\n",
    "print('Unfortunately',guest[2], 'cant make it today')\n",
    "print(guest[4],', I am pleased to invite you to have dinner with me')\n",
    "print(guest[3],', I am pleased to invite you to have dinner with me')"
   ]
  },
  {
   "cell_type": "code",
   "execution_count": 5,
   "metadata": {},
   "outputs": [
    {
     "name": "stdout",
     "output_type": "stream",
     "text": [
      "Manahil , I have changed the location for the dinner meeting\n",
      "Muneera , I have changed the location for the dinner meeting\n",
      "Khadeeja , I have changed the location for the dinner meeting\n",
      "Eshal , I have changed the location for the dinner meeting\n",
      "Sabah , I have changed the location for the dinner meeting\n",
      "Mahnoor , I have changed the location for the dinner meeting\n",
      "Maha , I have changed the location for the dinner meeting\n"
     ]
    }
   ],
   "source": [
    "guest:list=['Khadeeja','Sabah','Mahnoor','Muneera']\n",
    "guest.insert(0,'Manahil')\n",
    "print(guest[0],', I have changed the location for the dinner meeting')\n",
    "print(guest[4],', I have changed the location for the dinner meeting')\n",
    "print(guest[1],', I have changed the location for the dinner meeting')\n",
    "guest.insert(5,'Eshal')\n",
    "print(guest[5],', I have changed the location for the dinner meeting')\n",
    "print(guest[2],', I have changed the location for the dinner meeting')\n",
    "print(guest[3],', I have changed the location for the dinner meeting')\n",
    "guest.append('Maha')\n",
    "print(guest[6],', I have changed the location for the dinner meeting')"
   ]
  },
  {
   "cell_type": "code",
   "execution_count": 6,
   "metadata": {},
   "outputs": [
    {
     "name": "stdout",
     "output_type": "stream",
     "text": [
      "['England', 'Turkey', 'Maldives', 'Japan', 'Dubai']\n",
      "['Dubai', 'England', 'Japan', 'Maldives', 'Turkey']\n",
      "['Turkey', 'Maldives', 'Japan', 'England', 'Dubai']\n",
      "['Dubai', 'Japan', 'Maldives', 'Turkey', 'England']\n",
      "['England', 'Turkey', 'Maldives', 'Japan', 'Dubai']\n",
      "['Dubai', 'England', 'Japan', 'Maldives', 'Turkey']\n",
      "['Turkey', 'Maldives', 'Japan', 'England', 'Dubai']\n"
     ]
    }
   ],
   "source": [
    "places:list=['England','Turkey','Maldives','Japan','Dubai']\n",
    "print(places)\n",
    "print(sorted(places))\n",
    "print(sorted(places , reverse=True))\n",
    "places.reverse()\n",
    "print(places)\n",
    "places.reverse()\n",
    "print(places)\n",
    "places.sort()\n",
    "print(places)\n",
    "places.sort(reverse=True)\n",
    "print(places)\n",
    "\n"
   ]
  }
 ],
 "metadata": {
  "kernelspec": {
   "display_name": "Python 3",
   "language": "python",
   "name": "python3"
  },
  "language_info": {
   "codemirror_mode": {
    "name": "ipython",
    "version": 3
   },
   "file_extension": ".py",
   "mimetype": "text/x-python",
   "name": "python",
   "nbconvert_exporter": "python",
   "pygments_lexer": "ipython3",
   "version": "3.12.4"
  }
 },
 "nbformat": 4,
 "nbformat_minor": 2
}
